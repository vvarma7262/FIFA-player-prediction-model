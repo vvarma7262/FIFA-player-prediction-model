{
  "nbformat": 4,
  "nbformat_minor": 0,
  "metadata": {
    "kernelspec": {
      "display_name": "Python 3",
      "language": "python",
      "name": "python3"
    },
    "language_info": {
      "codemirror_mode": {
        "name": "ipython",
        "version": 3
      },
      "file_extension": ".py",
      "mimetype": "text/x-python",
      "name": "python",
      "nbconvert_exporter": "python",
      "pygments_lexer": "ipython3",
      "version": "3.7.1"
    },
    "colab": {
      "name": "fifa-2019-regression-model.ipynb",
      "provenance": [],
      "include_colab_link": true
    }
  },
  "cells": [
    {
      "cell_type": "markdown",
      "metadata": {
        "id": "view-in-github",
        "colab_type": "text"
      },
      "source": [
        "<a href=\"https://colab.research.google.com/github/vvarma7262/Vaibhav/blob/master/FIFA.ipynb\" target=\"_parent\"><img src=\"https://colab.research.google.com/assets/colab-badge.svg\" alt=\"Open In Colab\"/></a>"
      ]
    },
    {
      "cell_type": "markdown",
      "metadata": {
        "id": "QIqQmAFNSifa",
        "colab_type": "text"
      },
      "source": [
        "OBJECTIVE : The dataset contains detailed attributes for every player registered in the latest edition of FIFA 19 database. Our objective is to create Linear, Multiple and Polynomail Regression models to predict the potential of a player based on several attributes."
      ]
    },
    {
      "cell_type": "code",
      "metadata": {
        "id": "uEEIlnXcSifb",
        "colab_type": "code",
        "colab": {}
      },
      "source": [
        "import pandas as pd\n",
        "import numpy as np\n",
        "import matplotlib.pyplot as plt \n",
        "import seaborn as sns"
      ],
      "execution_count": 0,
      "outputs": []
    },
    {
      "cell_type": "code",
      "metadata": {
        "id": "3vv4EaqQSiff",
        "colab_type": "code",
        "colab": {}
      },
      "source": [
        "# reading dataset \n",
        "data=pd.read_csv(\"../input/data.csv\")"
      ],
      "execution_count": 0,
      "outputs": []
    },
    {
      "cell_type": "code",
      "metadata": {
        "id": "yTtXyPPmSifi",
        "colab_type": "code",
        "colab": {},
        "outputId": "748e570f-cb8f-43cf-ec0a-2473980eba19"
      },
      "source": [
        "# displaying first 5 rows\n",
        "data.head()"
      ],
      "execution_count": 0,
      "outputs": [
        {
          "output_type": "execute_result",
          "data": {
            "text/html": [
              "<div>\n",
              "<style scoped>\n",
              "    .dataframe tbody tr th:only-of-type {\n",
              "        vertical-align: middle;\n",
              "    }\n",
              "\n",
              "    .dataframe tbody tr th {\n",
              "        vertical-align: top;\n",
              "    }\n",
              "\n",
              "    .dataframe thead th {\n",
              "        text-align: right;\n",
              "    }\n",
              "</style>\n",
              "<table border=\"1\" class=\"dataframe\">\n",
              "  <thead>\n",
              "    <tr style=\"text-align: right;\">\n",
              "      <th></th>\n",
              "      <th>Unnamed: 0</th>\n",
              "      <th>ID</th>\n",
              "      <th>Name</th>\n",
              "      <th>Age</th>\n",
              "      <th>Photo</th>\n",
              "      <th>Nationality</th>\n",
              "      <th>Flag</th>\n",
              "      <th>Overall</th>\n",
              "      <th>Potential</th>\n",
              "      <th>Club</th>\n",
              "      <th>Club Logo</th>\n",
              "      <th>Value</th>\n",
              "      <th>Wage</th>\n",
              "      <th>Special</th>\n",
              "      <th>Preferred Foot</th>\n",
              "      <th>International Reputation</th>\n",
              "      <th>Weak Foot</th>\n",
              "      <th>Skill Moves</th>\n",
              "      <th>Work Rate</th>\n",
              "      <th>Body Type</th>\n",
              "      <th>Real Face</th>\n",
              "      <th>Position</th>\n",
              "      <th>Jersey Number</th>\n",
              "      <th>Joined</th>\n",
              "      <th>Loaned From</th>\n",
              "      <th>Contract Valid Until</th>\n",
              "      <th>Height</th>\n",
              "      <th>Weight</th>\n",
              "      <th>LS</th>\n",
              "      <th>ST</th>\n",
              "      <th>RS</th>\n",
              "      <th>LW</th>\n",
              "      <th>LF</th>\n",
              "      <th>CF</th>\n",
              "      <th>RF</th>\n",
              "      <th>RW</th>\n",
              "      <th>LAM</th>\n",
              "      <th>CAM</th>\n",
              "      <th>RAM</th>\n",
              "      <th>LM</th>\n",
              "      <th>...</th>\n",
              "      <th>LB</th>\n",
              "      <th>LCB</th>\n",
              "      <th>CB</th>\n",
              "      <th>RCB</th>\n",
              "      <th>RB</th>\n",
              "      <th>Crossing</th>\n",
              "      <th>Finishing</th>\n",
              "      <th>HeadingAccuracy</th>\n",
              "      <th>ShortPassing</th>\n",
              "      <th>Volleys</th>\n",
              "      <th>Dribbling</th>\n",
              "      <th>Curve</th>\n",
              "      <th>FKAccuracy</th>\n",
              "      <th>LongPassing</th>\n",
              "      <th>BallControl</th>\n",
              "      <th>Acceleration</th>\n",
              "      <th>SprintSpeed</th>\n",
              "      <th>Agility</th>\n",
              "      <th>Reactions</th>\n",
              "      <th>Balance</th>\n",
              "      <th>ShotPower</th>\n",
              "      <th>Jumping</th>\n",
              "      <th>Stamina</th>\n",
              "      <th>Strength</th>\n",
              "      <th>LongShots</th>\n",
              "      <th>Aggression</th>\n",
              "      <th>Interceptions</th>\n",
              "      <th>Positioning</th>\n",
              "      <th>Vision</th>\n",
              "      <th>Penalties</th>\n",
              "      <th>Composure</th>\n",
              "      <th>Marking</th>\n",
              "      <th>StandingTackle</th>\n",
              "      <th>SlidingTackle</th>\n",
              "      <th>GKDiving</th>\n",
              "      <th>GKHandling</th>\n",
              "      <th>GKKicking</th>\n",
              "      <th>GKPositioning</th>\n",
              "      <th>GKReflexes</th>\n",
              "      <th>Release Clause</th>\n",
              "    </tr>\n",
              "  </thead>\n",
              "  <tbody>\n",
              "    <tr>\n",
              "      <th>0</th>\n",
              "      <td>0</td>\n",
              "      <td>158023</td>\n",
              "      <td>L. Messi</td>\n",
              "      <td>31</td>\n",
              "      <td>https://cdn.sofifa.org/players/4/19/158023.png</td>\n",
              "      <td>Argentina</td>\n",
              "      <td>https://cdn.sofifa.org/flags/52.png</td>\n",
              "      <td>94</td>\n",
              "      <td>94</td>\n",
              "      <td>FC Barcelona</td>\n",
              "      <td>https://cdn.sofifa.org/teams/2/light/241.png</td>\n",
              "      <td>€110.5M</td>\n",
              "      <td>€565K</td>\n",
              "      <td>2202</td>\n",
              "      <td>Left</td>\n",
              "      <td>5.0</td>\n",
              "      <td>4.0</td>\n",
              "      <td>4.0</td>\n",
              "      <td>Medium/ Medium</td>\n",
              "      <td>Messi</td>\n",
              "      <td>Yes</td>\n",
              "      <td>RF</td>\n",
              "      <td>10.0</td>\n",
              "      <td>Jul 1, 2004</td>\n",
              "      <td>NaN</td>\n",
              "      <td>2021</td>\n",
              "      <td>5'7</td>\n",
              "      <td>159lbs</td>\n",
              "      <td>88+2</td>\n",
              "      <td>88+2</td>\n",
              "      <td>88+2</td>\n",
              "      <td>92+2</td>\n",
              "      <td>93+2</td>\n",
              "      <td>93+2</td>\n",
              "      <td>93+2</td>\n",
              "      <td>92+2</td>\n",
              "      <td>93+2</td>\n",
              "      <td>93+2</td>\n",
              "      <td>93+2</td>\n",
              "      <td>91+2</td>\n",
              "      <td>...</td>\n",
              "      <td>59+2</td>\n",
              "      <td>47+2</td>\n",
              "      <td>47+2</td>\n",
              "      <td>47+2</td>\n",
              "      <td>59+2</td>\n",
              "      <td>84.0</td>\n",
              "      <td>95.0</td>\n",
              "      <td>70.0</td>\n",
              "      <td>90.0</td>\n",
              "      <td>86.0</td>\n",
              "      <td>97.0</td>\n",
              "      <td>93.0</td>\n",
              "      <td>94.0</td>\n",
              "      <td>87.0</td>\n",
              "      <td>96.0</td>\n",
              "      <td>91.0</td>\n",
              "      <td>86.0</td>\n",
              "      <td>91.0</td>\n",
              "      <td>95.0</td>\n",
              "      <td>95.0</td>\n",
              "      <td>85.0</td>\n",
              "      <td>68.0</td>\n",
              "      <td>72.0</td>\n",
              "      <td>59.0</td>\n",
              "      <td>94.0</td>\n",
              "      <td>48.0</td>\n",
              "      <td>22.0</td>\n",
              "      <td>94.0</td>\n",
              "      <td>94.0</td>\n",
              "      <td>75.0</td>\n",
              "      <td>96.0</td>\n",
              "      <td>33.0</td>\n",
              "      <td>28.0</td>\n",
              "      <td>26.0</td>\n",
              "      <td>6.0</td>\n",
              "      <td>11.0</td>\n",
              "      <td>15.0</td>\n",
              "      <td>14.0</td>\n",
              "      <td>8.0</td>\n",
              "      <td>€226.5M</td>\n",
              "    </tr>\n",
              "    <tr>\n",
              "      <th>1</th>\n",
              "      <td>1</td>\n",
              "      <td>20801</td>\n",
              "      <td>Cristiano Ronaldo</td>\n",
              "      <td>33</td>\n",
              "      <td>https://cdn.sofifa.org/players/4/19/20801.png</td>\n",
              "      <td>Portugal</td>\n",
              "      <td>https://cdn.sofifa.org/flags/38.png</td>\n",
              "      <td>94</td>\n",
              "      <td>94</td>\n",
              "      <td>Juventus</td>\n",
              "      <td>https://cdn.sofifa.org/teams/2/light/45.png</td>\n",
              "      <td>€77M</td>\n",
              "      <td>€405K</td>\n",
              "      <td>2228</td>\n",
              "      <td>Right</td>\n",
              "      <td>5.0</td>\n",
              "      <td>4.0</td>\n",
              "      <td>5.0</td>\n",
              "      <td>High/ Low</td>\n",
              "      <td>C. Ronaldo</td>\n",
              "      <td>Yes</td>\n",
              "      <td>ST</td>\n",
              "      <td>7.0</td>\n",
              "      <td>Jul 10, 2018</td>\n",
              "      <td>NaN</td>\n",
              "      <td>2022</td>\n",
              "      <td>6'2</td>\n",
              "      <td>183lbs</td>\n",
              "      <td>91+3</td>\n",
              "      <td>91+3</td>\n",
              "      <td>91+3</td>\n",
              "      <td>89+3</td>\n",
              "      <td>90+3</td>\n",
              "      <td>90+3</td>\n",
              "      <td>90+3</td>\n",
              "      <td>89+3</td>\n",
              "      <td>88+3</td>\n",
              "      <td>88+3</td>\n",
              "      <td>88+3</td>\n",
              "      <td>88+3</td>\n",
              "      <td>...</td>\n",
              "      <td>61+3</td>\n",
              "      <td>53+3</td>\n",
              "      <td>53+3</td>\n",
              "      <td>53+3</td>\n",
              "      <td>61+3</td>\n",
              "      <td>84.0</td>\n",
              "      <td>94.0</td>\n",
              "      <td>89.0</td>\n",
              "      <td>81.0</td>\n",
              "      <td>87.0</td>\n",
              "      <td>88.0</td>\n",
              "      <td>81.0</td>\n",
              "      <td>76.0</td>\n",
              "      <td>77.0</td>\n",
              "      <td>94.0</td>\n",
              "      <td>89.0</td>\n",
              "      <td>91.0</td>\n",
              "      <td>87.0</td>\n",
              "      <td>96.0</td>\n",
              "      <td>70.0</td>\n",
              "      <td>95.0</td>\n",
              "      <td>95.0</td>\n",
              "      <td>88.0</td>\n",
              "      <td>79.0</td>\n",
              "      <td>93.0</td>\n",
              "      <td>63.0</td>\n",
              "      <td>29.0</td>\n",
              "      <td>95.0</td>\n",
              "      <td>82.0</td>\n",
              "      <td>85.0</td>\n",
              "      <td>95.0</td>\n",
              "      <td>28.0</td>\n",
              "      <td>31.0</td>\n",
              "      <td>23.0</td>\n",
              "      <td>7.0</td>\n",
              "      <td>11.0</td>\n",
              "      <td>15.0</td>\n",
              "      <td>14.0</td>\n",
              "      <td>11.0</td>\n",
              "      <td>€127.1M</td>\n",
              "    </tr>\n",
              "    <tr>\n",
              "      <th>2</th>\n",
              "      <td>2</td>\n",
              "      <td>190871</td>\n",
              "      <td>Neymar Jr</td>\n",
              "      <td>26</td>\n",
              "      <td>https://cdn.sofifa.org/players/4/19/190871.png</td>\n",
              "      <td>Brazil</td>\n",
              "      <td>https://cdn.sofifa.org/flags/54.png</td>\n",
              "      <td>92</td>\n",
              "      <td>93</td>\n",
              "      <td>Paris Saint-Germain</td>\n",
              "      <td>https://cdn.sofifa.org/teams/2/light/73.png</td>\n",
              "      <td>€118.5M</td>\n",
              "      <td>€290K</td>\n",
              "      <td>2143</td>\n",
              "      <td>Right</td>\n",
              "      <td>5.0</td>\n",
              "      <td>5.0</td>\n",
              "      <td>5.0</td>\n",
              "      <td>High/ Medium</td>\n",
              "      <td>Neymar</td>\n",
              "      <td>Yes</td>\n",
              "      <td>LW</td>\n",
              "      <td>10.0</td>\n",
              "      <td>Aug 3, 2017</td>\n",
              "      <td>NaN</td>\n",
              "      <td>2022</td>\n",
              "      <td>5'9</td>\n",
              "      <td>150lbs</td>\n",
              "      <td>84+3</td>\n",
              "      <td>84+3</td>\n",
              "      <td>84+3</td>\n",
              "      <td>89+3</td>\n",
              "      <td>89+3</td>\n",
              "      <td>89+3</td>\n",
              "      <td>89+3</td>\n",
              "      <td>89+3</td>\n",
              "      <td>89+3</td>\n",
              "      <td>89+3</td>\n",
              "      <td>89+3</td>\n",
              "      <td>88+3</td>\n",
              "      <td>...</td>\n",
              "      <td>60+3</td>\n",
              "      <td>47+3</td>\n",
              "      <td>47+3</td>\n",
              "      <td>47+3</td>\n",
              "      <td>60+3</td>\n",
              "      <td>79.0</td>\n",
              "      <td>87.0</td>\n",
              "      <td>62.0</td>\n",
              "      <td>84.0</td>\n",
              "      <td>84.0</td>\n",
              "      <td>96.0</td>\n",
              "      <td>88.0</td>\n",
              "      <td>87.0</td>\n",
              "      <td>78.0</td>\n",
              "      <td>95.0</td>\n",
              "      <td>94.0</td>\n",
              "      <td>90.0</td>\n",
              "      <td>96.0</td>\n",
              "      <td>94.0</td>\n",
              "      <td>84.0</td>\n",
              "      <td>80.0</td>\n",
              "      <td>61.0</td>\n",
              "      <td>81.0</td>\n",
              "      <td>49.0</td>\n",
              "      <td>82.0</td>\n",
              "      <td>56.0</td>\n",
              "      <td>36.0</td>\n",
              "      <td>89.0</td>\n",
              "      <td>87.0</td>\n",
              "      <td>81.0</td>\n",
              "      <td>94.0</td>\n",
              "      <td>27.0</td>\n",
              "      <td>24.0</td>\n",
              "      <td>33.0</td>\n",
              "      <td>9.0</td>\n",
              "      <td>9.0</td>\n",
              "      <td>15.0</td>\n",
              "      <td>15.0</td>\n",
              "      <td>11.0</td>\n",
              "      <td>€228.1M</td>\n",
              "    </tr>\n",
              "    <tr>\n",
              "      <th>3</th>\n",
              "      <td>3</td>\n",
              "      <td>193080</td>\n",
              "      <td>De Gea</td>\n",
              "      <td>27</td>\n",
              "      <td>https://cdn.sofifa.org/players/4/19/193080.png</td>\n",
              "      <td>Spain</td>\n",
              "      <td>https://cdn.sofifa.org/flags/45.png</td>\n",
              "      <td>91</td>\n",
              "      <td>93</td>\n",
              "      <td>Manchester United</td>\n",
              "      <td>https://cdn.sofifa.org/teams/2/light/11.png</td>\n",
              "      <td>€72M</td>\n",
              "      <td>€260K</td>\n",
              "      <td>1471</td>\n",
              "      <td>Right</td>\n",
              "      <td>4.0</td>\n",
              "      <td>3.0</td>\n",
              "      <td>1.0</td>\n",
              "      <td>Medium/ Medium</td>\n",
              "      <td>Lean</td>\n",
              "      <td>Yes</td>\n",
              "      <td>GK</td>\n",
              "      <td>1.0</td>\n",
              "      <td>Jul 1, 2011</td>\n",
              "      <td>NaN</td>\n",
              "      <td>2020</td>\n",
              "      <td>6'4</td>\n",
              "      <td>168lbs</td>\n",
              "      <td>NaN</td>\n",
              "      <td>NaN</td>\n",
              "      <td>NaN</td>\n",
              "      <td>NaN</td>\n",
              "      <td>NaN</td>\n",
              "      <td>NaN</td>\n",
              "      <td>NaN</td>\n",
              "      <td>NaN</td>\n",
              "      <td>NaN</td>\n",
              "      <td>NaN</td>\n",
              "      <td>NaN</td>\n",
              "      <td>NaN</td>\n",
              "      <td>...</td>\n",
              "      <td>NaN</td>\n",
              "      <td>NaN</td>\n",
              "      <td>NaN</td>\n",
              "      <td>NaN</td>\n",
              "      <td>NaN</td>\n",
              "      <td>17.0</td>\n",
              "      <td>13.0</td>\n",
              "      <td>21.0</td>\n",
              "      <td>50.0</td>\n",
              "      <td>13.0</td>\n",
              "      <td>18.0</td>\n",
              "      <td>21.0</td>\n",
              "      <td>19.0</td>\n",
              "      <td>51.0</td>\n",
              "      <td>42.0</td>\n",
              "      <td>57.0</td>\n",
              "      <td>58.0</td>\n",
              "      <td>60.0</td>\n",
              "      <td>90.0</td>\n",
              "      <td>43.0</td>\n",
              "      <td>31.0</td>\n",
              "      <td>67.0</td>\n",
              "      <td>43.0</td>\n",
              "      <td>64.0</td>\n",
              "      <td>12.0</td>\n",
              "      <td>38.0</td>\n",
              "      <td>30.0</td>\n",
              "      <td>12.0</td>\n",
              "      <td>68.0</td>\n",
              "      <td>40.0</td>\n",
              "      <td>68.0</td>\n",
              "      <td>15.0</td>\n",
              "      <td>21.0</td>\n",
              "      <td>13.0</td>\n",
              "      <td>90.0</td>\n",
              "      <td>85.0</td>\n",
              "      <td>87.0</td>\n",
              "      <td>88.0</td>\n",
              "      <td>94.0</td>\n",
              "      <td>€138.6M</td>\n",
              "    </tr>\n",
              "    <tr>\n",
              "      <th>4</th>\n",
              "      <td>4</td>\n",
              "      <td>192985</td>\n",
              "      <td>K. De Bruyne</td>\n",
              "      <td>27</td>\n",
              "      <td>https://cdn.sofifa.org/players/4/19/192985.png</td>\n",
              "      <td>Belgium</td>\n",
              "      <td>https://cdn.sofifa.org/flags/7.png</td>\n",
              "      <td>91</td>\n",
              "      <td>92</td>\n",
              "      <td>Manchester City</td>\n",
              "      <td>https://cdn.sofifa.org/teams/2/light/10.png</td>\n",
              "      <td>€102M</td>\n",
              "      <td>€355K</td>\n",
              "      <td>2281</td>\n",
              "      <td>Right</td>\n",
              "      <td>4.0</td>\n",
              "      <td>5.0</td>\n",
              "      <td>4.0</td>\n",
              "      <td>High/ High</td>\n",
              "      <td>Normal</td>\n",
              "      <td>Yes</td>\n",
              "      <td>RCM</td>\n",
              "      <td>7.0</td>\n",
              "      <td>Aug 30, 2015</td>\n",
              "      <td>NaN</td>\n",
              "      <td>2023</td>\n",
              "      <td>5'11</td>\n",
              "      <td>154lbs</td>\n",
              "      <td>82+3</td>\n",
              "      <td>82+3</td>\n",
              "      <td>82+3</td>\n",
              "      <td>87+3</td>\n",
              "      <td>87+3</td>\n",
              "      <td>87+3</td>\n",
              "      <td>87+3</td>\n",
              "      <td>87+3</td>\n",
              "      <td>88+3</td>\n",
              "      <td>88+3</td>\n",
              "      <td>88+3</td>\n",
              "      <td>88+3</td>\n",
              "      <td>...</td>\n",
              "      <td>73+3</td>\n",
              "      <td>66+3</td>\n",
              "      <td>66+3</td>\n",
              "      <td>66+3</td>\n",
              "      <td>73+3</td>\n",
              "      <td>93.0</td>\n",
              "      <td>82.0</td>\n",
              "      <td>55.0</td>\n",
              "      <td>92.0</td>\n",
              "      <td>82.0</td>\n",
              "      <td>86.0</td>\n",
              "      <td>85.0</td>\n",
              "      <td>83.0</td>\n",
              "      <td>91.0</td>\n",
              "      <td>91.0</td>\n",
              "      <td>78.0</td>\n",
              "      <td>76.0</td>\n",
              "      <td>79.0</td>\n",
              "      <td>91.0</td>\n",
              "      <td>77.0</td>\n",
              "      <td>91.0</td>\n",
              "      <td>63.0</td>\n",
              "      <td>90.0</td>\n",
              "      <td>75.0</td>\n",
              "      <td>91.0</td>\n",
              "      <td>76.0</td>\n",
              "      <td>61.0</td>\n",
              "      <td>87.0</td>\n",
              "      <td>94.0</td>\n",
              "      <td>79.0</td>\n",
              "      <td>88.0</td>\n",
              "      <td>68.0</td>\n",
              "      <td>58.0</td>\n",
              "      <td>51.0</td>\n",
              "      <td>15.0</td>\n",
              "      <td>13.0</td>\n",
              "      <td>5.0</td>\n",
              "      <td>10.0</td>\n",
              "      <td>13.0</td>\n",
              "      <td>€196.4M</td>\n",
              "    </tr>\n",
              "  </tbody>\n",
              "</table>\n",
              "</div>"
            ],
            "text/plain": [
              "   Unnamed: 0      ID       ...       GKReflexes  Release Clause\n",
              "0           0  158023       ...              8.0         €226.5M\n",
              "1           1   20801       ...             11.0         €127.1M\n",
              "2           2  190871       ...             11.0         €228.1M\n",
              "3           3  193080       ...             94.0         €138.6M\n",
              "4           4  192985       ...             13.0         €196.4M\n",
              "\n",
              "[5 rows x 89 columns]"
            ]
          },
          "metadata": {
            "tags": []
          },
          "execution_count": 3
        }
      ]
    },
    {
      "cell_type": "code",
      "metadata": {
        "id": "C9TztJKcSifl",
        "colab_type": "code",
        "colab": {},
        "outputId": "539e6344-9c34-49c3-bdae-e0840fec0c6c"
      },
      "source": [
        "data.shape #(no. of rows, no. of columns)"
      ],
      "execution_count": 0,
      "outputs": [
        {
          "output_type": "execute_result",
          "data": {
            "text/plain": [
              "(18207, 89)"
            ]
          },
          "metadata": {
            "tags": []
          },
          "execution_count": 4
        }
      ]
    },
    {
      "cell_type": "code",
      "metadata": {
        "id": "phgYj9iASifo",
        "colab_type": "code",
        "colab": {},
        "outputId": "4efd3d55-a6e2-4b48-99b9-683f34a8f1aa"
      },
      "source": [
        "data.describe()"
      ],
      "execution_count": 0,
      "outputs": [
        {
          "output_type": "execute_result",
          "data": {
            "text/html": [
              "<div>\n",
              "<style scoped>\n",
              "    .dataframe tbody tr th:only-of-type {\n",
              "        vertical-align: middle;\n",
              "    }\n",
              "\n",
              "    .dataframe tbody tr th {\n",
              "        vertical-align: top;\n",
              "    }\n",
              "\n",
              "    .dataframe thead th {\n",
              "        text-align: right;\n",
              "    }\n",
              "</style>\n",
              "<table border=\"1\" class=\"dataframe\">\n",
              "  <thead>\n",
              "    <tr style=\"text-align: right;\">\n",
              "      <th></th>\n",
              "      <th>Unnamed: 0</th>\n",
              "      <th>ID</th>\n",
              "      <th>Age</th>\n",
              "      <th>Overall</th>\n",
              "      <th>Potential</th>\n",
              "      <th>Special</th>\n",
              "      <th>International Reputation</th>\n",
              "      <th>Weak Foot</th>\n",
              "      <th>Skill Moves</th>\n",
              "      <th>Jersey Number</th>\n",
              "      <th>Crossing</th>\n",
              "      <th>Finishing</th>\n",
              "      <th>HeadingAccuracy</th>\n",
              "      <th>ShortPassing</th>\n",
              "      <th>Volleys</th>\n",
              "      <th>Dribbling</th>\n",
              "      <th>Curve</th>\n",
              "      <th>FKAccuracy</th>\n",
              "      <th>LongPassing</th>\n",
              "      <th>BallControl</th>\n",
              "      <th>Acceleration</th>\n",
              "      <th>SprintSpeed</th>\n",
              "      <th>Agility</th>\n",
              "      <th>Reactions</th>\n",
              "      <th>Balance</th>\n",
              "      <th>ShotPower</th>\n",
              "      <th>Jumping</th>\n",
              "      <th>Stamina</th>\n",
              "      <th>Strength</th>\n",
              "      <th>LongShots</th>\n",
              "      <th>Aggression</th>\n",
              "      <th>Interceptions</th>\n",
              "      <th>Positioning</th>\n",
              "      <th>Vision</th>\n",
              "      <th>Penalties</th>\n",
              "      <th>Composure</th>\n",
              "      <th>Marking</th>\n",
              "      <th>StandingTackle</th>\n",
              "      <th>SlidingTackle</th>\n",
              "      <th>GKDiving</th>\n",
              "      <th>GKHandling</th>\n",
              "      <th>GKKicking</th>\n",
              "      <th>GKPositioning</th>\n",
              "      <th>GKReflexes</th>\n",
              "    </tr>\n",
              "  </thead>\n",
              "  <tbody>\n",
              "    <tr>\n",
              "      <th>count</th>\n",
              "      <td>18207.000000</td>\n",
              "      <td>18207.000000</td>\n",
              "      <td>18207.000000</td>\n",
              "      <td>18207.000000</td>\n",
              "      <td>18207.000000</td>\n",
              "      <td>18207.000000</td>\n",
              "      <td>18159.000000</td>\n",
              "      <td>18159.000000</td>\n",
              "      <td>18159.000000</td>\n",
              "      <td>18147.000000</td>\n",
              "      <td>18159.000000</td>\n",
              "      <td>18159.000000</td>\n",
              "      <td>18159.000000</td>\n",
              "      <td>18159.000000</td>\n",
              "      <td>18159.000000</td>\n",
              "      <td>18159.000000</td>\n",
              "      <td>18159.000000</td>\n",
              "      <td>18159.000000</td>\n",
              "      <td>18159.000000</td>\n",
              "      <td>18159.000000</td>\n",
              "      <td>18159.000000</td>\n",
              "      <td>18159.000000</td>\n",
              "      <td>18159.000000</td>\n",
              "      <td>18159.000000</td>\n",
              "      <td>18159.000000</td>\n",
              "      <td>18159.000000</td>\n",
              "      <td>18159.000000</td>\n",
              "      <td>18159.000000</td>\n",
              "      <td>18159.000000</td>\n",
              "      <td>18159.000000</td>\n",
              "      <td>18159.000000</td>\n",
              "      <td>18159.000000</td>\n",
              "      <td>18159.000000</td>\n",
              "      <td>18159.000000</td>\n",
              "      <td>18159.000000</td>\n",
              "      <td>18159.000000</td>\n",
              "      <td>18159.000000</td>\n",
              "      <td>18159.000000</td>\n",
              "      <td>18159.000000</td>\n",
              "      <td>18159.000000</td>\n",
              "      <td>18159.000000</td>\n",
              "      <td>18159.000000</td>\n",
              "      <td>18159.000000</td>\n",
              "      <td>18159.000000</td>\n",
              "    </tr>\n",
              "    <tr>\n",
              "      <th>mean</th>\n",
              "      <td>9103.000000</td>\n",
              "      <td>214298.338606</td>\n",
              "      <td>25.122206</td>\n",
              "      <td>66.238699</td>\n",
              "      <td>71.307299</td>\n",
              "      <td>1597.809908</td>\n",
              "      <td>1.113222</td>\n",
              "      <td>2.947299</td>\n",
              "      <td>2.361308</td>\n",
              "      <td>19.546096</td>\n",
              "      <td>49.734181</td>\n",
              "      <td>45.550911</td>\n",
              "      <td>52.298144</td>\n",
              "      <td>58.686712</td>\n",
              "      <td>42.909026</td>\n",
              "      <td>55.371001</td>\n",
              "      <td>47.170824</td>\n",
              "      <td>42.863153</td>\n",
              "      <td>52.711933</td>\n",
              "      <td>58.369459</td>\n",
              "      <td>64.614076</td>\n",
              "      <td>64.726967</td>\n",
              "      <td>63.503607</td>\n",
              "      <td>61.836610</td>\n",
              "      <td>63.966573</td>\n",
              "      <td>55.460047</td>\n",
              "      <td>65.089432</td>\n",
              "      <td>63.219946</td>\n",
              "      <td>65.311967</td>\n",
              "      <td>47.109973</td>\n",
              "      <td>55.868991</td>\n",
              "      <td>46.698276</td>\n",
              "      <td>49.958478</td>\n",
              "      <td>53.400903</td>\n",
              "      <td>48.548598</td>\n",
              "      <td>58.648274</td>\n",
              "      <td>47.281623</td>\n",
              "      <td>47.697836</td>\n",
              "      <td>45.661435</td>\n",
              "      <td>16.616223</td>\n",
              "      <td>16.391596</td>\n",
              "      <td>16.232061</td>\n",
              "      <td>16.388898</td>\n",
              "      <td>16.710887</td>\n",
              "    </tr>\n",
              "    <tr>\n",
              "      <th>std</th>\n",
              "      <td>5256.052511</td>\n",
              "      <td>29965.244204</td>\n",
              "      <td>4.669943</td>\n",
              "      <td>6.908930</td>\n",
              "      <td>6.136496</td>\n",
              "      <td>272.586016</td>\n",
              "      <td>0.394031</td>\n",
              "      <td>0.660456</td>\n",
              "      <td>0.756164</td>\n",
              "      <td>15.947765</td>\n",
              "      <td>18.364524</td>\n",
              "      <td>19.525820</td>\n",
              "      <td>17.379909</td>\n",
              "      <td>14.699495</td>\n",
              "      <td>17.694408</td>\n",
              "      <td>18.910371</td>\n",
              "      <td>18.395264</td>\n",
              "      <td>17.478763</td>\n",
              "      <td>15.327870</td>\n",
              "      <td>16.686595</td>\n",
              "      <td>14.927780</td>\n",
              "      <td>14.649953</td>\n",
              "      <td>14.766049</td>\n",
              "      <td>9.010464</td>\n",
              "      <td>14.136166</td>\n",
              "      <td>17.237958</td>\n",
              "      <td>11.820044</td>\n",
              "      <td>15.894741</td>\n",
              "      <td>12.557000</td>\n",
              "      <td>19.260524</td>\n",
              "      <td>17.367967</td>\n",
              "      <td>20.696909</td>\n",
              "      <td>19.529036</td>\n",
              "      <td>14.146881</td>\n",
              "      <td>15.704053</td>\n",
              "      <td>11.436133</td>\n",
              "      <td>19.904397</td>\n",
              "      <td>21.664004</td>\n",
              "      <td>21.289135</td>\n",
              "      <td>17.695349</td>\n",
              "      <td>16.906900</td>\n",
              "      <td>16.502864</td>\n",
              "      <td>17.034669</td>\n",
              "      <td>17.955119</td>\n",
              "    </tr>\n",
              "    <tr>\n",
              "      <th>min</th>\n",
              "      <td>0.000000</td>\n",
              "      <td>16.000000</td>\n",
              "      <td>16.000000</td>\n",
              "      <td>46.000000</td>\n",
              "      <td>48.000000</td>\n",
              "      <td>731.000000</td>\n",
              "      <td>1.000000</td>\n",
              "      <td>1.000000</td>\n",
              "      <td>1.000000</td>\n",
              "      <td>1.000000</td>\n",
              "      <td>5.000000</td>\n",
              "      <td>2.000000</td>\n",
              "      <td>4.000000</td>\n",
              "      <td>7.000000</td>\n",
              "      <td>4.000000</td>\n",
              "      <td>4.000000</td>\n",
              "      <td>6.000000</td>\n",
              "      <td>3.000000</td>\n",
              "      <td>9.000000</td>\n",
              "      <td>5.000000</td>\n",
              "      <td>12.000000</td>\n",
              "      <td>12.000000</td>\n",
              "      <td>14.000000</td>\n",
              "      <td>21.000000</td>\n",
              "      <td>16.000000</td>\n",
              "      <td>2.000000</td>\n",
              "      <td>15.000000</td>\n",
              "      <td>12.000000</td>\n",
              "      <td>17.000000</td>\n",
              "      <td>3.000000</td>\n",
              "      <td>11.000000</td>\n",
              "      <td>3.000000</td>\n",
              "      <td>2.000000</td>\n",
              "      <td>10.000000</td>\n",
              "      <td>5.000000</td>\n",
              "      <td>3.000000</td>\n",
              "      <td>3.000000</td>\n",
              "      <td>2.000000</td>\n",
              "      <td>3.000000</td>\n",
              "      <td>1.000000</td>\n",
              "      <td>1.000000</td>\n",
              "      <td>1.000000</td>\n",
              "      <td>1.000000</td>\n",
              "      <td>1.000000</td>\n",
              "    </tr>\n",
              "    <tr>\n",
              "      <th>25%</th>\n",
              "      <td>4551.500000</td>\n",
              "      <td>200315.500000</td>\n",
              "      <td>21.000000</td>\n",
              "      <td>62.000000</td>\n",
              "      <td>67.000000</td>\n",
              "      <td>1457.000000</td>\n",
              "      <td>1.000000</td>\n",
              "      <td>3.000000</td>\n",
              "      <td>2.000000</td>\n",
              "      <td>8.000000</td>\n",
              "      <td>38.000000</td>\n",
              "      <td>30.000000</td>\n",
              "      <td>44.000000</td>\n",
              "      <td>54.000000</td>\n",
              "      <td>30.000000</td>\n",
              "      <td>49.000000</td>\n",
              "      <td>34.000000</td>\n",
              "      <td>31.000000</td>\n",
              "      <td>43.000000</td>\n",
              "      <td>54.000000</td>\n",
              "      <td>57.000000</td>\n",
              "      <td>57.000000</td>\n",
              "      <td>55.000000</td>\n",
              "      <td>56.000000</td>\n",
              "      <td>56.000000</td>\n",
              "      <td>45.000000</td>\n",
              "      <td>58.000000</td>\n",
              "      <td>56.000000</td>\n",
              "      <td>58.000000</td>\n",
              "      <td>33.000000</td>\n",
              "      <td>44.000000</td>\n",
              "      <td>26.000000</td>\n",
              "      <td>38.000000</td>\n",
              "      <td>44.000000</td>\n",
              "      <td>39.000000</td>\n",
              "      <td>51.000000</td>\n",
              "      <td>30.000000</td>\n",
              "      <td>27.000000</td>\n",
              "      <td>24.000000</td>\n",
              "      <td>8.000000</td>\n",
              "      <td>8.000000</td>\n",
              "      <td>8.000000</td>\n",
              "      <td>8.000000</td>\n",
              "      <td>8.000000</td>\n",
              "    </tr>\n",
              "    <tr>\n",
              "      <th>50%</th>\n",
              "      <td>9103.000000</td>\n",
              "      <td>221759.000000</td>\n",
              "      <td>25.000000</td>\n",
              "      <td>66.000000</td>\n",
              "      <td>71.000000</td>\n",
              "      <td>1635.000000</td>\n",
              "      <td>1.000000</td>\n",
              "      <td>3.000000</td>\n",
              "      <td>2.000000</td>\n",
              "      <td>17.000000</td>\n",
              "      <td>54.000000</td>\n",
              "      <td>49.000000</td>\n",
              "      <td>56.000000</td>\n",
              "      <td>62.000000</td>\n",
              "      <td>44.000000</td>\n",
              "      <td>61.000000</td>\n",
              "      <td>48.000000</td>\n",
              "      <td>41.000000</td>\n",
              "      <td>56.000000</td>\n",
              "      <td>63.000000</td>\n",
              "      <td>67.000000</td>\n",
              "      <td>67.000000</td>\n",
              "      <td>66.000000</td>\n",
              "      <td>62.000000</td>\n",
              "      <td>66.000000</td>\n",
              "      <td>59.000000</td>\n",
              "      <td>66.000000</td>\n",
              "      <td>66.000000</td>\n",
              "      <td>67.000000</td>\n",
              "      <td>51.000000</td>\n",
              "      <td>59.000000</td>\n",
              "      <td>52.000000</td>\n",
              "      <td>55.000000</td>\n",
              "      <td>55.000000</td>\n",
              "      <td>49.000000</td>\n",
              "      <td>60.000000</td>\n",
              "      <td>53.000000</td>\n",
              "      <td>55.000000</td>\n",
              "      <td>52.000000</td>\n",
              "      <td>11.000000</td>\n",
              "      <td>11.000000</td>\n",
              "      <td>11.000000</td>\n",
              "      <td>11.000000</td>\n",
              "      <td>11.000000</td>\n",
              "    </tr>\n",
              "    <tr>\n",
              "      <th>75%</th>\n",
              "      <td>13654.500000</td>\n",
              "      <td>236529.500000</td>\n",
              "      <td>28.000000</td>\n",
              "      <td>71.000000</td>\n",
              "      <td>75.000000</td>\n",
              "      <td>1787.000000</td>\n",
              "      <td>1.000000</td>\n",
              "      <td>3.000000</td>\n",
              "      <td>3.000000</td>\n",
              "      <td>26.000000</td>\n",
              "      <td>64.000000</td>\n",
              "      <td>62.000000</td>\n",
              "      <td>64.000000</td>\n",
              "      <td>68.000000</td>\n",
              "      <td>57.000000</td>\n",
              "      <td>68.000000</td>\n",
              "      <td>62.000000</td>\n",
              "      <td>57.000000</td>\n",
              "      <td>64.000000</td>\n",
              "      <td>69.000000</td>\n",
              "      <td>75.000000</td>\n",
              "      <td>75.000000</td>\n",
              "      <td>74.000000</td>\n",
              "      <td>68.000000</td>\n",
              "      <td>74.000000</td>\n",
              "      <td>68.000000</td>\n",
              "      <td>73.000000</td>\n",
              "      <td>74.000000</td>\n",
              "      <td>74.000000</td>\n",
              "      <td>62.000000</td>\n",
              "      <td>69.000000</td>\n",
              "      <td>64.000000</td>\n",
              "      <td>64.000000</td>\n",
              "      <td>64.000000</td>\n",
              "      <td>60.000000</td>\n",
              "      <td>67.000000</td>\n",
              "      <td>64.000000</td>\n",
              "      <td>66.000000</td>\n",
              "      <td>64.000000</td>\n",
              "      <td>14.000000</td>\n",
              "      <td>14.000000</td>\n",
              "      <td>14.000000</td>\n",
              "      <td>14.000000</td>\n",
              "      <td>14.000000</td>\n",
              "    </tr>\n",
              "    <tr>\n",
              "      <th>max</th>\n",
              "      <td>18206.000000</td>\n",
              "      <td>246620.000000</td>\n",
              "      <td>45.000000</td>\n",
              "      <td>94.000000</td>\n",
              "      <td>95.000000</td>\n",
              "      <td>2346.000000</td>\n",
              "      <td>5.000000</td>\n",
              "      <td>5.000000</td>\n",
              "      <td>5.000000</td>\n",
              "      <td>99.000000</td>\n",
              "      <td>93.000000</td>\n",
              "      <td>95.000000</td>\n",
              "      <td>94.000000</td>\n",
              "      <td>93.000000</td>\n",
              "      <td>90.000000</td>\n",
              "      <td>97.000000</td>\n",
              "      <td>94.000000</td>\n",
              "      <td>94.000000</td>\n",
              "      <td>93.000000</td>\n",
              "      <td>96.000000</td>\n",
              "      <td>97.000000</td>\n",
              "      <td>96.000000</td>\n",
              "      <td>96.000000</td>\n",
              "      <td>96.000000</td>\n",
              "      <td>96.000000</td>\n",
              "      <td>95.000000</td>\n",
              "      <td>95.000000</td>\n",
              "      <td>96.000000</td>\n",
              "      <td>97.000000</td>\n",
              "      <td>94.000000</td>\n",
              "      <td>95.000000</td>\n",
              "      <td>92.000000</td>\n",
              "      <td>95.000000</td>\n",
              "      <td>94.000000</td>\n",
              "      <td>92.000000</td>\n",
              "      <td>96.000000</td>\n",
              "      <td>94.000000</td>\n",
              "      <td>93.000000</td>\n",
              "      <td>91.000000</td>\n",
              "      <td>90.000000</td>\n",
              "      <td>92.000000</td>\n",
              "      <td>91.000000</td>\n",
              "      <td>90.000000</td>\n",
              "      <td>94.000000</td>\n",
              "    </tr>\n",
              "  </tbody>\n",
              "</table>\n",
              "</div>"
            ],
            "text/plain": [
              "         Unnamed: 0             ID      ...       GKPositioning    GKReflexes\n",
              "count  18207.000000   18207.000000      ...        18159.000000  18159.000000\n",
              "mean    9103.000000  214298.338606      ...           16.388898     16.710887\n",
              "std     5256.052511   29965.244204      ...           17.034669     17.955119\n",
              "min        0.000000      16.000000      ...            1.000000      1.000000\n",
              "25%     4551.500000  200315.500000      ...            8.000000      8.000000\n",
              "50%     9103.000000  221759.000000      ...           11.000000     11.000000\n",
              "75%    13654.500000  236529.500000      ...           14.000000     14.000000\n",
              "max    18206.000000  246620.000000      ...           90.000000     94.000000\n",
              "\n",
              "[8 rows x 44 columns]"
            ]
          },
          "metadata": {
            "tags": []
          },
          "execution_count": 5
        }
      ]
    },
    {
      "cell_type": "code",
      "metadata": {
        "id": "oOBPZZa8Sifq",
        "colab_type": "code",
        "colab": {},
        "outputId": "19104975-709e-4c97-80a2-b10573307d61"
      },
      "source": [
        "# finding any null values in data\n",
        "data.isnull().any()"
      ],
      "execution_count": 0,
      "outputs": [
        {
          "output_type": "execute_result",
          "data": {
            "text/plain": [
              "Unnamed: 0                  False\n",
              "ID                          False\n",
              "Name                        False\n",
              "Age                         False\n",
              "Photo                       False\n",
              "Nationality                 False\n",
              "Flag                        False\n",
              "Overall                     False\n",
              "Potential                   False\n",
              "Club                         True\n",
              "Club Logo                   False\n",
              "Value                       False\n",
              "Wage                        False\n",
              "Special                     False\n",
              "Preferred Foot               True\n",
              "International Reputation     True\n",
              "Weak Foot                    True\n",
              "Skill Moves                  True\n",
              "Work Rate                    True\n",
              "Body Type                    True\n",
              "Real Face                    True\n",
              "Position                     True\n",
              "Jersey Number                True\n",
              "Joined                       True\n",
              "Loaned From                  True\n",
              "Contract Valid Until         True\n",
              "Height                       True\n",
              "Weight                       True\n",
              "LS                           True\n",
              "ST                           True\n",
              "                            ...  \n",
              "Dribbling                    True\n",
              "Curve                        True\n",
              "FKAccuracy                   True\n",
              "LongPassing                  True\n",
              "BallControl                  True\n",
              "Acceleration                 True\n",
              "SprintSpeed                  True\n",
              "Agility                      True\n",
              "Reactions                    True\n",
              "Balance                      True\n",
              "ShotPower                    True\n",
              "Jumping                      True\n",
              "Stamina                      True\n",
              "Strength                     True\n",
              "LongShots                    True\n",
              "Aggression                   True\n",
              "Interceptions                True\n",
              "Positioning                  True\n",
              "Vision                       True\n",
              "Penalties                    True\n",
              "Composure                    True\n",
              "Marking                      True\n",
              "StandingTackle               True\n",
              "SlidingTackle                True\n",
              "GKDiving                     True\n",
              "GKHandling                   True\n",
              "GKKicking                    True\n",
              "GKPositioning                True\n",
              "GKReflexes                   True\n",
              "Release Clause               True\n",
              "Length: 89, dtype: bool"
            ]
          },
          "metadata": {
            "tags": []
          },
          "execution_count": 6
        }
      ]
    },
    {
      "cell_type": "markdown",
      "metadata": {
        "id": "a9EIj7wfSift",
        "colab_type": "text"
      },
      "source": [
        "#  Linear Regression - Predicting Potential based on Age of the player"
      ]
    },
    {
      "cell_type": "code",
      "metadata": {
        "id": "6veWvfueSifu",
        "colab_type": "code",
        "colab": {}
      },
      "source": [
        "# x = Age(independent variable)\n",
        "x=data.iloc[:,3] "
      ],
      "execution_count": 0,
      "outputs": []
    },
    {
      "cell_type": "code",
      "metadata": {
        "id": "grPaSM9lSifw",
        "colab_type": "code",
        "colab": {},
        "outputId": "ee4e10b2-a554-495d-fced-ea534d04bebc"
      },
      "source": [
        "x.head()"
      ],
      "execution_count": 0,
      "outputs": [
        {
          "output_type": "execute_result",
          "data": {
            "text/plain": [
              "0    31\n",
              "1    33\n",
              "2    26\n",
              "3    27\n",
              "4    27\n",
              "Name: Age, dtype: int64"
            ]
          },
          "metadata": {
            "tags": []
          },
          "execution_count": 8
        }
      ]
    },
    {
      "cell_type": "code",
      "metadata": {
        "id": "JGWIGeJeSifz",
        "colab_type": "code",
        "colab": {},
        "outputId": "1a2265e7-3b32-45c5-a862-1f5e8e8f27dc"
      },
      "source": [
        "x.isnull().any()"
      ],
      "execution_count": 0,
      "outputs": [
        {
          "output_type": "execute_result",
          "data": {
            "text/plain": [
              "False"
            ]
          },
          "metadata": {
            "tags": []
          },
          "execution_count": 9
        }
      ]
    },
    {
      "cell_type": "code",
      "metadata": {
        "id": "xFPyPU7vSif1",
        "colab_type": "code",
        "colab": {}
      },
      "source": [
        "# y = Potential(dependent variable)\n",
        "y=data.iloc[:,8]"
      ],
      "execution_count": 0,
      "outputs": []
    },
    {
      "cell_type": "code",
      "metadata": {
        "id": "rTKv36CbSif3",
        "colab_type": "code",
        "colab": {},
        "outputId": "ff1ffa4e-b7af-46ed-ea5a-f89cb27a07fe"
      },
      "source": [
        "y.head()"
      ],
      "execution_count": 0,
      "outputs": [
        {
          "output_type": "execute_result",
          "data": {
            "text/plain": [
              "0    94\n",
              "1    94\n",
              "2    93\n",
              "3    93\n",
              "4    92\n",
              "Name: Potential, dtype: int64"
            ]
          },
          "metadata": {
            "tags": []
          },
          "execution_count": 11
        }
      ]
    },
    {
      "cell_type": "code",
      "metadata": {
        "id": "jhLaMvLqSif4",
        "colab_type": "code",
        "colab": {},
        "outputId": "7aa4085c-4439-4213-a0a6-c30ddc61c1b3"
      },
      "source": [
        "y.isnull().any()"
      ],
      "execution_count": 0,
      "outputs": [
        {
          "output_type": "execute_result",
          "data": {
            "text/plain": [
              "False"
            ]
          },
          "metadata": {
            "tags": []
          },
          "execution_count": 12
        }
      ]
    },
    {
      "cell_type": "code",
      "metadata": {
        "id": "GfcgUCJHSif6",
        "colab_type": "code",
        "colab": {},
        "outputId": "ec7999d6-4695-4855-ce26-e04a0e04b503"
      },
      "source": [
        "plt.bar(data[\"Age\"],data[\"Potential\"])\n",
        "plt.xlabel(\"Age of Player\")\n",
        "plt.show()"
      ],
      "execution_count": 0,
      "outputs": [
        {
          "output_type": "display_data",
          "data": {
            "image/png": "[encoded data removed]",
            "text/plain": [
              "<Figure size 432x288 with 1 Axes>"
            ]
          },
          "metadata": {
            "tags": []
          }
        }
      ]
    },
    {
      "cell_type": "code",
      "metadata": {
        "id": "gdy_3h8LSif8",
        "colab_type": "code",
        "colab": {}
      },
      "source": [
        "# splitting data into train and tet set\n",
        "from sklearn.model_selection import train_test_split"
      ],
      "execution_count": 0,
      "outputs": []
    },
    {
      "cell_type": "code",
      "metadata": {
        "id": "qRLEaZLuSif9",
        "colab_type": "code",
        "colab": {}
      },
      "source": [
        "x_train,x_test,y_train,y_test=train_test_split(x,y,test_size=0.2,random_state=0)"
      ],
      "execution_count": 0,
      "outputs": []
    },
    {
      "cell_type": "code",
      "metadata": {
        "id": "wYIZaHriSif_",
        "colab_type": "code",
        "colab": {}
      },
      "source": [
        "from sklearn.linear_model import LinearRegression"
      ],
      "execution_count": 0,
      "outputs": []
    },
    {
      "cell_type": "code",
      "metadata": {
        "id": "qhM7TneESigA",
        "colab_type": "code",
        "colab": {}
      },
      "source": [
        "# making object regressor of class LinearRegression\n",
        "regressor=LinearRegression()"
      ],
      "execution_count": 0,
      "outputs": []
    },
    {
      "cell_type": "markdown",
      "metadata": {
        "id": "VUnBG0v_SigB",
        "colab_type": "text"
      },
      "source": [
        "I was facing errors with fitting the data so we reshape x_train and y_train by first converting them into ndarray."
      ]
    },
    {
      "cell_type": "code",
      "metadata": {
        "id": "e9SJsMsCSigB",
        "colab_type": "code",
        "colab": {},
        "outputId": "424c396a-704c-4fc1-8cde-2d4b05420ab3"
      },
      "source": [
        "type(x_train)\n",
        "type(y_train)"
      ],
      "execution_count": 0,
      "outputs": [
        {
          "output_type": "execute_result",
          "data": {
            "text/plain": [
              "pandas.core.series.Series"
            ]
          },
          "metadata": {
            "tags": []
          },
          "execution_count": 18
        }
      ]
    },
    {
      "cell_type": "code",
      "metadata": {
        "id": "dabhgegoSigD",
        "colab_type": "code",
        "colab": {}
      },
      "source": [
        "x_train=np.array(x_train)\n",
        "y_train=np.array(y_train)"
      ],
      "execution_count": 0,
      "outputs": []
    },
    {
      "cell_type": "code",
      "metadata": {
        "id": "IJKoZ-qDSigE",
        "colab_type": "code",
        "colab": {},
        "outputId": "a5b3fcfa-80a6-48d2-a52b-e27b50dd0723"
      },
      "source": [
        "type(x_train)\n",
        "type(y_train)"
      ],
      "execution_count": 0,
      "outputs": [
        {
          "output_type": "execute_result",
          "data": {
            "text/plain": [
              "numpy.ndarray"
            ]
          },
          "metadata": {
            "tags": []
          },
          "execution_count": 20
        }
      ]
    },
    {
      "cell_type": "code",
      "metadata": {
        "id": "0j_Mjl4rSigF",
        "colab_type": "code",
        "colab": {}
      },
      "source": [
        "x_train=x_train.reshape(-1,1)\n",
        "y_train=y_train.reshape(-1,1)\n"
      ],
      "execution_count": 0,
      "outputs": []
    },
    {
      "cell_type": "code",
      "metadata": {
        "id": "FnwEecJxSigH",
        "colab_type": "code",
        "colab": {},
        "outputId": "ddb26563-19bb-427e-c8da-ac840616acbd"
      },
      "source": [
        "# fitting training set into object regressor\n",
        "regressor.fit(x_train,y_train)"
      ],
      "execution_count": 0,
      "outputs": [
        {
          "output_type": "execute_result",
          "data": {
            "text/plain": [
              "LinearRegression(copy_X=True, fit_intercept=True, n_jobs=None,\n",
              "         normalize=False)"
            ]
          },
          "metadata": {
            "tags": []
          },
          "execution_count": 22
        }
      ]
    },
    {
      "cell_type": "markdown",
      "metadata": {
        "id": "FZZDP8UHSigI",
        "colab_type": "text"
      },
      "source": [
        "To avoid error in prediting we reshape x_test also."
      ]
    },
    {
      "cell_type": "code",
      "metadata": {
        "id": "WZfuUsQySigI",
        "colab_type": "code",
        "colab": {}
      },
      "source": [
        "x_test=np.array(x_test)"
      ],
      "execution_count": 0,
      "outputs": []
    },
    {
      "cell_type": "code",
      "metadata": {
        "id": "9Rvq7LkgSigJ",
        "colab_type": "code",
        "colab": {}
      },
      "source": [
        "x_test=x_test.reshape(-1,1)"
      ],
      "execution_count": 0,
      "outputs": []
    },
    {
      "cell_type": "code",
      "metadata": {
        "id": "wbhZIZ8tSigK",
        "colab_type": "code",
        "colab": {}
      },
      "source": [
        "# Predicting y from test set\n",
        "y_pred= regressor.predict(x_test)"
      ],
      "execution_count": 0,
      "outputs": []
    },
    {
      "cell_type": "code",
      "metadata": {
        "id": "Gm3qrZIMSigK",
        "colab_type": "code",
        "colab": {},
        "outputId": "0ab4758e-2665-4707-fe66-accba31bdfc0"
      },
      "source": [
        "# Visualising training dataset\n",
        "plt.scatter(x_train,y_train,color=\"red\")\n",
        "plt.xlabel(\"Age of Player\")\n",
        "plt.ylabel(\"Potential of Player\")\n",
        "plt.plot(x_train, regressor.predict(x_train),color=\"blue\") # To draw line of regression\n",
        "plt.show()"
      ],
      "execution_count": 0,
      "outputs": [
        {
          "output_type": "display_data",
          "data": {
            "image/png": "[encoded data removed]",
            "text/plain": [
              "<Figure size 432x288 with 1 Axes>"
            ]
          },
          "metadata": {
            "tags": []
          }
        }
      ]
    },
    {
      "cell_type": "code",
      "metadata": {
        "id": "DvEIJuR3SigL",
        "colab_type": "code",
        "colab": {},
        "outputId": "1d6eee81-0611-4ec5-d2bc-9c9a8f4bc0dd"
      },
      "source": [
        "# Visualising test dataset\n",
        "plt.scatter(x_test,y_test,color=\"red\")\n",
        "plt.xlabel(\"Age of Player\")\n",
        "plt.ylabel(\"Potential of Player\")\n",
        "plt.plot(x_train, regressor.predict(x_train),color=\"blue\")\n",
        "plt.show()"
      ],
      "execution_count": 0,
      "outputs": [
        {
          "output_type": "display_data",
          "data": {
            "image/png": "[encoded data removed]",
            "text/plain": [
              "<Figure size 432x288 with 1 Axes>"
            ]
          },
          "metadata": {
            "tags": []
          }
        }
      ]
    },
    {
      "cell_type": "code",
      "metadata": {
        "id": "mu6v49lVSigM",
        "colab_type": "code",
        "colab": {},
        "outputId": "8438246c-a405-4151-add0-40a05c9cadad"
      },
      "source": [
        "# Finding intercept of linear regression line\n",
        "regressor.intercept_"
      ],
      "execution_count": 0,
      "outputs": [
        {
          "output_type": "execute_result",
          "data": {
            "text/plain": [
              "array([79.61593458])"
            ]
          },
          "metadata": {
            "tags": []
          },
          "execution_count": 28
        }
      ]
    },
    {
      "cell_type": "code",
      "metadata": {
        "id": "363hQNrvSigN",
        "colab_type": "code",
        "colab": {},
        "outputId": "bb8cd6f3-725c-452b-b957-77396cb6b9f5"
      },
      "source": [
        "# Finding coefficient of linear regression line\n",
        "regressor.coef_"
      ],
      "execution_count": 0,
      "outputs": [
        {
          "output_type": "execute_result",
          "data": {
            "text/plain": [
              "array([[-0.33049799]])"
            ]
          },
          "metadata": {
            "tags": []
          },
          "execution_count": 29
        }
      ]
    },
    {
      "cell_type": "code",
      "metadata": {
        "id": "mIdjADyNSigP",
        "colab_type": "code",
        "colab": {}
      },
      "source": [
        "# Finding mean squared error of linear regression model\n",
        "from sklearn.metrics import mean_squared_error"
      ],
      "execution_count": 0,
      "outputs": []
    },
    {
      "cell_type": "code",
      "metadata": {
        "id": "brC9ZJ-bSigQ",
        "colab_type": "code",
        "colab": {},
        "outputId": "dfffb1d8-8fa5-4aa2-a1c9-40d030114a95"
      },
      "source": [
        "mean_squared_error(y_test,y_pred)"
      ],
      "execution_count": 0,
      "outputs": [
        {
          "output_type": "execute_result",
          "data": {
            "text/plain": [
              "35.42740657794979"
            ]
          },
          "metadata": {
            "tags": []
          },
          "execution_count": 31
        }
      ]
    },
    {
      "cell_type": "markdown",
      "metadata": {
        "id": "uEQvjFlmSigQ",
        "colab_type": "text"
      },
      "source": [
        "# Multiple regression - Predicting potential based on age, agility, balance, stamina, strength, composure\n"
      ]
    },
    {
      "cell_type": "code",
      "metadata": {
        "id": "WBXEd8vOSigR",
        "colab_type": "code",
        "colab": {}
      },
      "source": [
        "# independent variables are - Age, Agility, Balance, stamina, Strength, Composure\n",
        "x=data.iloc[:,[3,66,68,71,72,79]]"
      ],
      "execution_count": 0,
      "outputs": []
    },
    {
      "cell_type": "code",
      "metadata": {
        "id": "2a1yip7eSigR",
        "colab_type": "code",
        "colab": {},
        "outputId": "b3dd2663-f273-47b8-b6e2-b450e3a949d9"
      },
      "source": [
        "x.head()"
      ],
      "execution_count": 0,
      "outputs": [
        {
          "output_type": "execute_result",
          "data": {
            "text/html": [
              "<div>\n",
              "<style scoped>\n",
              "    .dataframe tbody tr th:only-of-type {\n",
              "        vertical-align: middle;\n",
              "    }\n",
              "\n",
              "    .dataframe tbody tr th {\n",
              "        vertical-align: top;\n",
              "    }\n",
              "\n",
              "    .dataframe thead th {\n",
              "        text-align: right;\n",
              "    }\n",
              "</style>\n",
              "<table border=\"1\" class=\"dataframe\">\n",
              "  <thead>\n",
              "    <tr style=\"text-align: right;\">\n",
              "      <th></th>\n",
              "      <th>Age</th>\n",
              "      <th>Agility</th>\n",
              "      <th>Balance</th>\n",
              "      <th>Stamina</th>\n",
              "      <th>Strength</th>\n",
              "      <th>Composure</th>\n",
              "    </tr>\n",
              "  </thead>\n",
              "  <tbody>\n",
              "    <tr>\n",
              "      <th>0</th>\n",
              "      <td>31</td>\n",
              "      <td>91.0</td>\n",
              "      <td>95.0</td>\n",
              "      <td>72.0</td>\n",
              "      <td>59.0</td>\n",
              "      <td>96.0</td>\n",
              "    </tr>\n",
              "    <tr>\n",
              "      <th>1</th>\n",
              "      <td>33</td>\n",
              "      <td>87.0</td>\n",
              "      <td>70.0</td>\n",
              "      <td>88.0</td>\n",
              "      <td>79.0</td>\n",
              "      <td>95.0</td>\n",
              "    </tr>\n",
              "    <tr>\n",
              "      <th>2</th>\n",
              "      <td>26</td>\n",
              "      <td>96.0</td>\n",
              "      <td>84.0</td>\n",
              "      <td>81.0</td>\n",
              "      <td>49.0</td>\n",
              "      <td>94.0</td>\n",
              "    </tr>\n",
              "    <tr>\n",
              "      <th>3</th>\n",
              "      <td>27</td>\n",
              "      <td>60.0</td>\n",
              "      <td>43.0</td>\n",
              "      <td>43.0</td>\n",
              "      <td>64.0</td>\n",
              "      <td>68.0</td>\n",
              "    </tr>\n",
              "    <tr>\n",
              "      <th>4</th>\n",
              "      <td>27</td>\n",
              "      <td>79.0</td>\n",
              "      <td>77.0</td>\n",
              "      <td>90.0</td>\n",
              "      <td>75.0</td>\n",
              "      <td>88.0</td>\n",
              "    </tr>\n",
              "  </tbody>\n",
              "</table>\n",
              "</div>"
            ],
            "text/plain": [
              "   Age  Agility  Balance  Stamina  Strength  Composure\n",
              "0   31     91.0     95.0     72.0      59.0       96.0\n",
              "1   33     87.0     70.0     88.0      79.0       95.0\n",
              "2   26     96.0     84.0     81.0      49.0       94.0\n",
              "3   27     60.0     43.0     43.0      64.0       68.0\n",
              "4   27     79.0     77.0     90.0      75.0       88.0"
            ]
          },
          "metadata": {
            "tags": []
          },
          "execution_count": 33
        }
      ]
    },
    {
      "cell_type": "code",
      "metadata": {
        "id": "pa2_2s53SigS",
        "colab_type": "code",
        "colab": {},
        "outputId": "9ab5b9c9-d1a1-4c6d-a949-a2683db01ee9"
      },
      "source": [
        "# checking if there are null values in x and then filling them. \n",
        "x.isnull().any()"
      ],
      "execution_count": 0,
      "outputs": [
        {
          "output_type": "execute_result",
          "data": {
            "text/plain": [
              "Age          False\n",
              "Agility       True\n",
              "Balance       True\n",
              "Stamina       True\n",
              "Strength      True\n",
              "Composure     True\n",
              "dtype: bool"
            ]
          },
          "metadata": {
            "tags": []
          },
          "execution_count": 34
        }
      ]
    },
    {
      "cell_type": "code",
      "metadata": {
        "id": "7uuSLJpESigT",
        "colab_type": "code",
        "colab": {}
      },
      "source": [
        "x=x.fillna(method='ffill')"
      ],
      "execution_count": 0,
      "outputs": []
    },
    {
      "cell_type": "code",
      "metadata": {
        "id": "U-d_GH5oSigU",
        "colab_type": "code",
        "colab": {},
        "outputId": "1d583c1f-9538-4fad-fbca-93381caba9d3"
      },
      "source": [
        "x.isnull().any()"
      ],
      "execution_count": 0,
      "outputs": [
        {
          "output_type": "execute_result",
          "data": {
            "text/plain": [
              "Age          False\n",
              "Agility      False\n",
              "Balance      False\n",
              "Stamina      False\n",
              "Strength     False\n",
              "Composure    False\n",
              "dtype: bool"
            ]
          },
          "metadata": {
            "tags": []
          },
          "execution_count": 36
        }
      ]
    },
    {
      "cell_type": "code",
      "metadata": {
        "id": "9DUD7b6ZSigV",
        "colab_type": "code",
        "colab": {}
      },
      "source": [
        "# dependent variable = Potential\n",
        "y=data.iloc[:,8]"
      ],
      "execution_count": 0,
      "outputs": []
    },
    {
      "cell_type": "code",
      "metadata": {
        "id": "8Pv2VV5ZSigW",
        "colab_type": "code",
        "colab": {},
        "outputId": "0c00a52d-6e01-419d-d05b-aea732cab966"
      },
      "source": [
        "y.head()"
      ],
      "execution_count": 0,
      "outputs": [
        {
          "output_type": "execute_result",
          "data": {
            "text/plain": [
              "0    94\n",
              "1    94\n",
              "2    93\n",
              "3    93\n",
              "4    92\n",
              "Name: Potential, dtype: int64"
            ]
          },
          "metadata": {
            "tags": []
          },
          "execution_count": 38
        }
      ]
    },
    {
      "cell_type": "code",
      "metadata": {
        "id": "iTuAe06GSigX",
        "colab_type": "code",
        "colab": {},
        "outputId": "3f46e879-db50-41ef-e463-6ee6734fe43a"
      },
      "source": [
        "y.isnull().any()"
      ],
      "execution_count": 0,
      "outputs": [
        {
          "output_type": "execute_result",
          "data": {
            "text/plain": [
              "False"
            ]
          },
          "metadata": {
            "tags": []
          },
          "execution_count": 39
        }
      ]
    },
    {
      "cell_type": "code",
      "metadata": {
        "id": "X9af20IxSigY",
        "colab_type": "code",
        "colab": {},
        "outputId": "568152e3-8eb4-48d5-d050-c3dc7765cd9c"
      },
      "source": [
        "sns.lineplot(x=\"Potential\", y=\"Age\",data=data,label=\"Age\", ci= None)\n",
        "sns.lineplot(x=\"Potential\", y=\"Agility\",data=data,label=\"Agility\", ci= None)\n",
        "sns.lineplot(x=\"Potential\", y=\"Balance\",data=data,label=\"Balance\", ci= None)\n",
        "sns.lineplot(x=\"Potential\", y=\"Stamina\",data=data,label=\"Stamina\", ci= None)\n",
        "sns.lineplot(x=\"Potential\", y=\"Strength\",data=data,label=\"Strength\", ci= None)\n",
        "sns.lineplot(x=\"Potential\", y=\"Composure\",data=data,label=\"Composure\", ci= None)\n"
      ],
      "execution_count": 0,
      "outputs": [
        {
          "output_type": "execute_result",
          "data": {
            "text/plain": [
              "<matplotlib.axes._subplots.AxesSubplot at 0x7f1332f90da0>"
            ]
          },
          "metadata": {
            "tags": []
          },
          "execution_count": 40
        },
        {
          "output_type": "display_data",
          "data": {
            "image/png": "[encoded data removed]",
            "text/plain": [
              "<Figure size 432x288 with 1 Axes>"
            ]
          },
          "metadata": {
            "tags": []
          }
        }
      ]
    },
    {
      "cell_type": "code",
      "metadata": {
        "id": "SPGhWlBTSigZ",
        "colab_type": "code",
        "colab": {}
      },
      "source": [
        "x_train,x_test,y_train,y_test=train_test_split(x,y,test_size=0.2)"
      ],
      "execution_count": 0,
      "outputs": []
    },
    {
      "cell_type": "code",
      "metadata": {
        "id": "ms5C9x2VSigZ",
        "colab_type": "code",
        "colab": {}
      },
      "source": [
        "regressor=LinearRegression()"
      ],
      "execution_count": 0,
      "outputs": []
    },
    {
      "cell_type": "code",
      "metadata": {
        "id": "sGbjEtL3Siga",
        "colab_type": "code",
        "colab": {},
        "outputId": "1b9061ed-ebaa-4be4-f07b-252e85d07d5b"
      },
      "source": [
        "regressor.fit(x_train,y_train)"
      ],
      "execution_count": 0,
      "outputs": [
        {
          "output_type": "execute_result",
          "data": {
            "text/plain": [
              "LinearRegression(copy_X=True, fit_intercept=True, n_jobs=None,\n",
              "         normalize=False)"
            ]
          },
          "metadata": {
            "tags": []
          },
          "execution_count": 43
        }
      ]
    },
    {
      "cell_type": "code",
      "metadata": {
        "id": "3cPcbf4USigb",
        "colab_type": "code",
        "colab": {},
        "outputId": "c68f1619-ae4b-4ac9-a38d-ebfc88cf3636"
      },
      "source": [
        "regressor.predict(x_test)"
      ],
      "execution_count": 0,
      "outputs": [
        {
          "output_type": "execute_result",
          "data": {
            "text/plain": [
              "array([81.24366607, 71.97538391, 64.72317953, ..., 75.10859409,\n",
              "       75.20760949, 74.80958061])"
            ]
          },
          "metadata": {
            "tags": []
          },
          "execution_count": 44
        }
      ]
    },
    {
      "cell_type": "code",
      "metadata": {
        "id": "cPFoUluMSigb",
        "colab_type": "code",
        "colab": {},
        "outputId": "e6f0e902-7d83-458c-dce2-e9778db6de1c"
      },
      "source": [
        "# Visualising Actual and predicted values of Potential of player\n",
        "plt.scatter(y_test,y_pred)\n",
        "plt.xlabel(\"Actual Potential\")\n",
        "plt.ylabel(\"Predicted Potential\")\n",
        "plt.show()"
      ],
      "execution_count": 0,
      "outputs": [
        {
          "output_type": "display_data",
          "data": {
            "image/png": "[encoded data removed]",
            "text/plain": [
              "<Figure size 432x288 with 1 Axes>"
            ]
          },
          "metadata": {
            "tags": []
          }
        }
      ]
    },
    {
      "cell_type": "markdown",
      "metadata": {
        "id": "6x_2WqGSSigc",
        "colab_type": "text"
      },
      "source": [
        "Seems like the actual and predicted values are very close to each other."
      ]
    },
    {
      "cell_type": "code",
      "metadata": {
        "id": "dhyVMqSTSigc",
        "colab_type": "code",
        "colab": {},
        "outputId": "21aadcbc-de0d-4a3a-bd6e-4ce6daf9a898"
      },
      "source": [
        "regressor.intercept_"
      ],
      "execution_count": 0,
      "outputs": [
        {
          "output_type": "execute_result",
          "data": {
            "text/plain": [
              "68.99347413204013"
            ]
          },
          "metadata": {
            "tags": []
          },
          "execution_count": 46
        }
      ]
    },
    {
      "cell_type": "code",
      "metadata": {
        "id": "q80WXIXdSigd",
        "colab_type": "code",
        "colab": {},
        "outputId": "d098e12c-c319-4eb6-8b4a-4ef3717197e6"
      },
      "source": [
        "regressor.coef_"
      ],
      "execution_count": 0,
      "outputs": [
        {
          "output_type": "execute_result",
          "data": {
            "text/plain": [
              "array([-0.71801693,  0.02961049, -0.04482728, -0.04580513,  0.03362954,\n",
              "        0.37557222])"
            ]
          },
          "metadata": {
            "tags": []
          },
          "execution_count": 47
        }
      ]
    },
    {
      "cell_type": "markdown",
      "metadata": {
        "id": "IeXcTuALSige",
        "colab_type": "text"
      },
      "source": [
        "Backward Elimination - Making optimal regression model by finding the statistical significance of all independent variables"
      ]
    },
    {
      "cell_type": "code",
      "metadata": {
        "id": "AYVc_kaHSige",
        "colab_type": "code",
        "colab": {}
      },
      "source": [
        "# let us take the significance level (SL)= 0.05\n",
        "import statsmodels.formula.api as sm"
      ],
      "execution_count": 0,
      "outputs": []
    },
    {
      "cell_type": "code",
      "metadata": {
        "id": "eHVUqPL0Sige",
        "colab_type": "code",
        "colab": {}
      },
      "source": [
        "# fitting all variables in the model\n",
        "regressor_OLS=sm.OLS(endog=y,exog=x).fit()"
      ],
      "execution_count": 0,
      "outputs": []
    },
    {
      "cell_type": "code",
      "metadata": {
        "id": "0cqO806KSigf",
        "colab_type": "code",
        "colab": {},
        "outputId": "95e2c2ff-d0a7-418c-84e4-9c1637269137"
      },
      "source": [
        "# Finding statistical summary of all variables\n",
        "regressor_OLS.summary()"
      ],
      "execution_count": 0,
      "outputs": [
        {
          "output_type": "execute_result",
          "data": {
            "text/html": [
              "<table class=\"simpletable\">\n",
              "<caption>OLS Regression Results</caption>\n",
              "<tr>\n",
              "  <th>Dep. Variable:</th>        <td>Potential</td>    <th>  R-squared:         </th> <td>   0.986</td> \n",
              "</tr>\n",
              "<tr>\n",
              "  <th>Model:</th>                   <td>OLS</td>       <th>  Adj. R-squared:    </th> <td>   0.986</td> \n",
              "</tr>\n",
              "<tr>\n",
              "  <th>Method:</th>             <td>Least Squares</td>  <th>  F-statistic:       </th> <td>2.211e+05</td>\n",
              "</tr>\n",
              "<tr>\n",
              "  <th>Date:</th>             <td>Mon, 13 May 2019</td> <th>  Prob (F-statistic):</th>  <td>  0.00</td>  \n",
              "</tr>\n",
              "<tr>\n",
              "  <th>Time:</th>                 <td>09:28:00</td>     <th>  Log-Likelihood:    </th> <td> -64422.</td> \n",
              "</tr>\n",
              "<tr>\n",
              "  <th>No. Observations:</th>      <td> 18207</td>      <th>  AIC:               </th> <td>1.289e+05</td>\n",
              "</tr>\n",
              "<tr>\n",
              "  <th>Df Residuals:</th>          <td> 18201</td>      <th>  BIC:               </th> <td>1.289e+05</td>\n",
              "</tr>\n",
              "<tr>\n",
              "  <th>Df Model:</th>              <td>     6</td>      <th>                     </th>     <td> </td>    \n",
              "</tr>\n",
              "<tr>\n",
              "  <th>Covariance Type:</th>      <td>nonrobust</td>    <th>                     </th>     <td> </td>    \n",
              "</tr>\n",
              "</table>\n",
              "<table class=\"simpletable\">\n",
              "<tr>\n",
              "      <td></td>         <th>coef</th>     <th>std err</th>      <th>t</th>      <th>P>|t|</th>  <th>[0.025</th>    <th>0.975]</th>  \n",
              "</tr>\n",
              "<tr>\n",
              "  <th>Age</th>       <td>   -0.1507</td> <td>    0.014</td> <td>  -10.593</td> <td> 0.000</td> <td>   -0.179</td> <td>   -0.123</td>\n",
              "</tr>\n",
              "<tr>\n",
              "  <th>Agility</th>   <td>    0.1331</td> <td>    0.007</td> <td>   18.448</td> <td> 0.000</td> <td>    0.119</td> <td>    0.147</td>\n",
              "</tr>\n",
              "<tr>\n",
              "  <th>Balance</th>   <td>    0.3864</td> <td>    0.007</td> <td>   58.335</td> <td> 0.000</td> <td>    0.373</td> <td>    0.399</td>\n",
              "</tr>\n",
              "<tr>\n",
              "  <th>Stamina</th>   <td>   -0.2149</td> <td>    0.006</td> <td>  -38.460</td> <td> 0.000</td> <td>   -0.226</td> <td>   -0.204</td>\n",
              "</tr>\n",
              "<tr>\n",
              "  <th>Strength</th>  <td>    0.5346</td> <td>    0.005</td> <td>  101.205</td> <td> 0.000</td> <td>    0.524</td> <td>    0.545</td>\n",
              "</tr>\n",
              "<tr>\n",
              "  <th>Composure</th> <td>    0.3397</td> <td>    0.007</td> <td>   46.532</td> <td> 0.000</td> <td>    0.325</td> <td>    0.354</td>\n",
              "</tr>\n",
              "</table>\n",
              "<table class=\"simpletable\">\n",
              "<tr>\n",
              "  <th>Omnibus:</th>       <td>847.699</td> <th>  Durbin-Watson:     </th> <td>   1.872</td> \n",
              "</tr>\n",
              "<tr>\n",
              "  <th>Prob(Omnibus):</th> <td> 0.000</td>  <th>  Jarque-Bera (JB):  </th> <td>1050.686</td> \n",
              "</tr>\n",
              "<tr>\n",
              "  <th>Skew:</th>          <td> 0.494</td>  <th>  Prob(JB):          </th> <td>7.02e-229</td>\n",
              "</tr>\n",
              "<tr>\n",
              "  <th>Kurtosis:</th>      <td> 3.641</td>  <th>  Cond. No.          </th> <td>    35.0</td> \n",
              "</tr>\n",
              "</table><br/><br/>Warnings:<br/>[1] Standard Errors assume that the covariance matrix of the errors is correctly specified."
            ],
            "text/plain": [
              "<class 'statsmodels.iolib.summary.Summary'>\n",
              "\"\"\"\n",
              "                            OLS Regression Results                            \n",
              "==============================================================================\n",
              "Dep. Variable:              Potential   R-squared:                       0.986\n",
              "Model:                            OLS   Adj. R-squared:                  0.986\n",
              "Method:                 Least Squares   F-statistic:                 2.211e+05\n",
              "Date:                Mon, 13 May 2019   Prob (F-statistic):               0.00\n",
              "Time:                        09:28:00   Log-Likelihood:                -64422.\n",
              "No. Observations:               18207   AIC:                         1.289e+05\n",
              "Df Residuals:                   18201   BIC:                         1.289e+05\n",
              "Df Model:                           6                                         \n",
              "Covariance Type:            nonrobust                                         \n",
              "==============================================================================\n",
              "                 coef    std err          t      P>|t|      [0.025      0.975]\n",
              "------------------------------------------------------------------------------\n",
              "Age           -0.1507      0.014    -10.593      0.000      -0.179      -0.123\n",
              "Agility        0.1331      0.007     18.448      0.000       0.119       0.147\n",
              "Balance        0.3864      0.007     58.335      0.000       0.373       0.399\n",
              "Stamina       -0.2149      0.006    -38.460      0.000      -0.226      -0.204\n",
              "Strength       0.5346      0.005    101.205      0.000       0.524       0.545\n",
              "Composure      0.3397      0.007     46.532      0.000       0.325       0.354\n",
              "==============================================================================\n",
              "Omnibus:                      847.699   Durbin-Watson:                   1.872\n",
              "Prob(Omnibus):                  0.000   Jarque-Bera (JB):             1050.686\n",
              "Skew:                           0.494   Prob(JB):                    7.02e-229\n",
              "Kurtosis:                       3.641   Cond. No.                         35.0\n",
              "==============================================================================\n",
              "\n",
              "Warnings:\n",
              "[1] Standard Errors assume that the covariance matrix of the errors is correctly specified.\n",
              "\"\"\""
            ]
          },
          "metadata": {
            "tags": []
          },
          "execution_count": 50
        }
      ]
    },
    {
      "cell_type": "markdown",
      "metadata": {
        "id": "9kYraGD6Sigg",
        "colab_type": "text"
      },
      "source": [
        "As we see all the P- values are less than SL(0.05), that means all the variables are significant and none of them can be removed. \n",
        "t-value shows the statistical significane of each variable.\n",
        "F-static shows us how significant the fit is. \n",
        "Adjusted- R is 0.986 that means our model explains 98.6% variables in dependent variables."
      ]
    },
    {
      "cell_type": "markdown",
      "metadata": {
        "id": "Q_02i-b6Sigg",
        "colab_type": "text"
      },
      "source": [
        "# Polynomial Regression - Predicting potential based on the age of player"
      ]
    },
    {
      "cell_type": "code",
      "metadata": {
        "id": "Cyxg3jPCSigg",
        "colab_type": "code",
        "colab": {}
      },
      "source": [
        "# independent variable= age\n",
        "x=data.iloc[:,3]"
      ],
      "execution_count": 0,
      "outputs": []
    },
    {
      "cell_type": "code",
      "metadata": {
        "id": "NLGsk917Sigh",
        "colab_type": "code",
        "colab": {},
        "outputId": "2d9367b5-e5cd-4e28-b6b0-bcb08f81b0f0"
      },
      "source": [
        "x.head()"
      ],
      "execution_count": 0,
      "outputs": [
        {
          "output_type": "execute_result",
          "data": {
            "text/plain": [
              "0    31\n",
              "1    33\n",
              "2    26\n",
              "3    27\n",
              "4    27\n",
              "Name: Age, dtype: int64"
            ]
          },
          "metadata": {
            "tags": []
          },
          "execution_count": 52
        }
      ]
    },
    {
      "cell_type": "code",
      "metadata": {
        "id": "XxmSAJNRSigi",
        "colab_type": "code",
        "colab": {}
      },
      "source": [
        "# dependent variable = potential\n",
        "y=data.iloc[:,8]"
      ],
      "execution_count": 0,
      "outputs": []
    },
    {
      "cell_type": "code",
      "metadata": {
        "id": "3rI-X3k9Sigi",
        "colab_type": "code",
        "colab": {},
        "outputId": "ecbe985e-6a08-4470-822e-9a0c7f1a803d"
      },
      "source": [
        "y.head()"
      ],
      "execution_count": 0,
      "outputs": [
        {
          "output_type": "execute_result",
          "data": {
            "text/plain": [
              "0    94\n",
              "1    94\n",
              "2    93\n",
              "3    93\n",
              "4    92\n",
              "Name: Potential, dtype: int64"
            ]
          },
          "metadata": {
            "tags": []
          },
          "execution_count": 54
        }
      ]
    },
    {
      "cell_type": "code",
      "metadata": {
        "id": "QEl9BdknSigj",
        "colab_type": "code",
        "colab": {}
      },
      "source": [
        "x_train,x_test,y_train,y_test=train_test_split(x,y,test_size=0.2,random_state=42)"
      ],
      "execution_count": 0,
      "outputs": []
    },
    {
      "cell_type": "code",
      "metadata": {
        "id": "iXtelM90Sigk",
        "colab_type": "code",
        "colab": {}
      },
      "source": [
        "x_train=np.array(x_train)\n",
        "y_train=np.array(y_train)"
      ],
      "execution_count": 0,
      "outputs": []
    },
    {
      "cell_type": "code",
      "metadata": {
        "id": "9zKtCPJSSigk",
        "colab_type": "code",
        "colab": {}
      },
      "source": [
        "x_train=x_train.reshape(-1,1)\n",
        "y_train=y_train.reshape(-1,1)"
      ],
      "execution_count": 0,
      "outputs": []
    },
    {
      "cell_type": "code",
      "metadata": {
        "id": "gtDobUWJSigl",
        "colab_type": "code",
        "colab": {}
      },
      "source": [
        "lin_reg_1=LinearRegression()"
      ],
      "execution_count": 0,
      "outputs": []
    },
    {
      "cell_type": "code",
      "metadata": {
        "id": "I_Jy3J0lSigm",
        "colab_type": "code",
        "colab": {},
        "outputId": "6e130a6e-e8da-4f80-d0b1-1ad976d42a3f"
      },
      "source": [
        "lin_reg_1.fit(x_train,y_train)"
      ],
      "execution_count": 0,
      "outputs": [
        {
          "output_type": "execute_result",
          "data": {
            "text/plain": [
              "LinearRegression(copy_X=True, fit_intercept=True, n_jobs=None,\n",
              "         normalize=False)"
            ]
          },
          "metadata": {
            "tags": []
          },
          "execution_count": 59
        }
      ]
    },
    {
      "cell_type": "code",
      "metadata": {
        "id": "Q1QqyOVgSign",
        "colab_type": "code",
        "colab": {}
      },
      "source": [
        "x_test=np.array(x_test)"
      ],
      "execution_count": 0,
      "outputs": []
    },
    {
      "cell_type": "code",
      "metadata": {
        "id": "JLTeAhn8Sigo",
        "colab_type": "code",
        "colab": {}
      },
      "source": [
        "x_test=x_test.reshape(-1,1)"
      ],
      "execution_count": 0,
      "outputs": []
    },
    {
      "cell_type": "code",
      "metadata": {
        "id": "vXNEW5R1Sigo",
        "colab_type": "code",
        "colab": {}
      },
      "source": [
        "y_pred_1=lin_reg_1.predict(x_test)"
      ],
      "execution_count": 0,
      "outputs": []
    },
    {
      "cell_type": "code",
      "metadata": {
        "id": "6F93S9Z1Sigp",
        "colab_type": "code",
        "colab": {}
      },
      "source": [
        "# Making polynomail regression model\n",
        "from sklearn.preprocessing import PolynomialFeatures"
      ],
      "execution_count": 0,
      "outputs": []
    },
    {
      "cell_type": "code",
      "metadata": {
        "id": "zXASi7AxSigq",
        "colab_type": "code",
        "colab": {}
      },
      "source": [
        "poly_reg=PolynomialFeatures(degree=3)"
      ],
      "execution_count": 0,
      "outputs": []
    },
    {
      "cell_type": "code",
      "metadata": {
        "id": "mPTbwr5mSigq",
        "colab_type": "code",
        "colab": {}
      },
      "source": [
        "x=np.array(x)"
      ],
      "execution_count": 0,
      "outputs": []
    },
    {
      "cell_type": "code",
      "metadata": {
        "id": "q1LGu1l9Sigr",
        "colab_type": "code",
        "colab": {}
      },
      "source": [
        "x=x.reshape(-1,1)"
      ],
      "execution_count": 0,
      "outputs": []
    },
    {
      "cell_type": "code",
      "metadata": {
        "id": "GLFDaSxXSigs",
        "colab_type": "code",
        "colab": {}
      },
      "source": [
        "# Making polynomial matrix of x of degree 3\n",
        "x_poly=poly_reg.fit_transform(x)"
      ],
      "execution_count": 0,
      "outputs": []
    },
    {
      "cell_type": "code",
      "metadata": {
        "id": "AMJihKbiSigt",
        "colab_type": "code",
        "colab": {},
        "outputId": "b91d1f83-e8a3-46a4-f37a-7d6011cdae7d"
      },
      "source": [
        "x_poly"
      ],
      "execution_count": 0,
      "outputs": [
        {
          "output_type": "execute_result",
          "data": {
            "text/plain": [
              "array([[1.0000e+00, 3.1000e+01, 9.6100e+02, 2.9791e+04],\n",
              "       [1.0000e+00, 3.3000e+01, 1.0890e+03, 3.5937e+04],\n",
              "       [1.0000e+00, 2.6000e+01, 6.7600e+02, 1.7576e+04],\n",
              "       ...,\n",
              "       [1.0000e+00, 1.6000e+01, 2.5600e+02, 4.0960e+03],\n",
              "       [1.0000e+00, 1.7000e+01, 2.8900e+02, 4.9130e+03],\n",
              "       [1.0000e+00, 1.6000e+01, 2.5600e+02, 4.0960e+03]])"
            ]
          },
          "metadata": {
            "tags": []
          },
          "execution_count": 68
        }
      ]
    },
    {
      "cell_type": "code",
      "metadata": {
        "id": "UH9R4W57Sigu",
        "colab_type": "code",
        "colab": {}
      },
      "source": [
        "x_poly_train,x_poly_test,y_train,y_test=train_test_split(x_poly,y,test_size=0.2, random_state=42)"
      ],
      "execution_count": 0,
      "outputs": []
    },
    {
      "cell_type": "code",
      "metadata": {
        "id": "pHBy5LypSigu",
        "colab_type": "code",
        "colab": {}
      },
      "source": [
        "# Making another object to fit polynomial set\n",
        "lin_reg_2=LinearRegression()"
      ],
      "execution_count": 0,
      "outputs": []
    },
    {
      "cell_type": "code",
      "metadata": {
        "id": "MSp3HfPASigv",
        "colab_type": "code",
        "colab": {},
        "outputId": "845655bc-027c-4ace-afcc-869e5ab0ea61"
      },
      "source": [
        "lin_reg_2.fit(x_poly_train,y_train)"
      ],
      "execution_count": 0,
      "outputs": [
        {
          "output_type": "execute_result",
          "data": {
            "text/plain": [
              "LinearRegression(copy_X=True, fit_intercept=True, n_jobs=None,\n",
              "         normalize=False)"
            ]
          },
          "metadata": {
            "tags": []
          },
          "execution_count": 71
        }
      ]
    },
    {
      "cell_type": "code",
      "metadata": {
        "id": "_KYc0Y5WSigw",
        "colab_type": "code",
        "colab": {}
      },
      "source": [
        "y_pred_2=lin_reg_2.predict(x_poly_test)"
      ],
      "execution_count": 0,
      "outputs": []
    },
    {
      "cell_type": "code",
      "metadata": {
        "id": "roh9HuR_Sigx",
        "colab_type": "code",
        "colab": {},
        "outputId": "cd085bd2-bd99-4bf2-bca4-f2f7d2f4b882"
      },
      "source": [
        "# Visualizing Linear Regression Model\n",
        "plt.scatter(x_test,y_test,color='red')\n",
        "plt.xlabel(\"Age of Player\")\n",
        "plt.ylabel(\"Potential of Player\")\n",
        "plt.title(\"Linear Regression Curve \")\n",
        "plt.plot(x_train,lin_reg_1.predict(x_train),color='blue')\n",
        "plt.show()"
      ],
      "execution_count": 0,
      "outputs": [
        {
          "output_type": "display_data",
          "data": {
            "image/png": "[encoded data removed]",
            "text/plain": [
              "<Figure size 432x288 with 1 Axes>"
            ]
          },
          "metadata": {
            "tags": []
          }
        }
      ]
    },
    {
      "cell_type": "code",
      "metadata": {
        "id": "sFlNSiWuSigy",
        "colab_type": "code",
        "colab": {},
        "outputId": "95a38806-2239-4f89-a2d3-a4c840add89e"
      },
      "source": [
        "# Visualizing Polynomial Regression Model\n",
        "plt.scatter(x_test,y_test,color='red')\n",
        "plt.xlabel(\"Age of Player\")\n",
        "plt.ylabel(\"Potential of Player\")\n",
        "plt.title(\"Polynomial Regression Curve \")\n",
        "plt.plot(x_train,lin_reg_2.predict(poly_reg.fit_transform(x_train)),color='blue')\n",
        "plt.show()"
      ],
      "execution_count": 0,
      "outputs": [
        {
          "output_type": "display_data",
          "data": {
            "image/png": "[encoded data removed]",
            "text/plain": [
              "<Figure size 432x288 with 1 Axes>"
            ]
          },
          "metadata": {
            "tags": []
          }
        }
      ]
    },
    {
      "cell_type": "code",
      "metadata": {
        "id": "lq43VfhFSigy",
        "colab_type": "code",
        "colab": {},
        "outputId": "dc3d266f-69a0-4049-8407-0c66285e8c6a"
      },
      "source": [
        "mean_squared_error(y_test,y_pred_2)"
      ],
      "execution_count": 0,
      "outputs": [
        {
          "output_type": "execute_result",
          "data": {
            "text/plain": [
              "34.035984061599706"
            ]
          },
          "metadata": {
            "tags": []
          },
          "execution_count": 75
        }
      ]
    },
    {
      "cell_type": "markdown",
      "metadata": {
        "id": "r2cafJXKSigz",
        "colab_type": "text"
      },
      "source": [
        "We can see the mean squared error of polynomail regression model < mean squared error of linear regression model. So polynomail regression model is more accurate."
      ]
    }
  ]
}